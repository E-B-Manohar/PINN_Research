{
 "cells": [
  {
   "cell_type": "markdown",
   "id": "79f7022d",
   "metadata": {},
   "source": [
    "Ref: \n",
    "- https://www.benardmakaa.com/wp-content/uploads/2018/05/Translational-Mechanical-Systems-Extra-Notes-Nise.pdf"
   ]
  },
  {
   "cell_type": "code",
   "execution_count": null,
   "id": "91370342",
   "metadata": {},
   "outputs": [],
   "source": []
  },
  {
   "cell_type": "code",
   "execution_count": 1,
   "id": "a993bd6d",
   "metadata": {
    "scrolled": false
   },
   "outputs": [],
   "source": [
    "pwd"
   ]
  },
  {
   "cell_type": "code",
   "execution_count": 2,
   "id": "11ed7371",
   "metadata": {
    "scrolled": false
   },
   "outputs": [],
   "source": [
    "from IPython.display import display, HTML\n",
    "display(HTML(\"<style>.container { width:95% !important; }</style>\"))"
   ]
  },
  {
   "cell_type": "code",
   "execution_count": 3,
   "id": "983ad6bb",
   "metadata": {},
   "outputs": [],
   "source": [
    "import warnings\n",
    "warnings.filterwarnings(\"ignore\")"
   ]
  },
  {
   "cell_type": "code",
   "execution_count": 4,
   "id": "ec40444a",
   "metadata": {},
   "outputs": [
    {
     "name": "stdout",
     "output_type": "stream",
     "text": [
      "TF Version:  2.10.0\n",
      "NP Version:  1.21.6\n"
     ]
    }
   ],
   "source": [
    "import tensorflow as tf\n",
    "import numpy as np\n",
    "\n",
    "## Reproducable versions\n",
    "print(\"TF Version: \", tf.__version__) ## 2.10.0\n",
    "print(\"NP Version: \", np.__version__) ## 1.21.6"
   ]
  },
  {
   "cell_type": "code",
   "execution_count": 5,
   "id": "687846cc",
   "metadata": {},
   "outputs": [],
   "source": [
    "from tensorflow.python.ops import math_ops\n",
    "\n",
    "from tensorflow.python.ops.math_ops import Sum, squared_difference\n",
    "\n",
    "import tensorflow.keras.backend as K\n",
    "import numpy as np\n",
    "\n",
    "from tensorflow.keras.initializers import RandomNormal\n",
    "from tensorflow.keras.optimizers import Adam\n",
    "from tensorflow.keras import layers\n",
    "import matplotlib.pyplot as plt\n",
    "import math\n",
    "\n",
    "import time"
   ]
  },
  {
   "cell_type": "code",
   "execution_count": null,
   "id": "01aa2fb2",
   "metadata": {},
   "outputs": [],
   "source": []
  },
  {
   "cell_type": "markdown",
   "id": "1c9969e2",
   "metadata": {},
   "source": [
    "### Creating folders for saving results"
   ]
  },
  {
   "cell_type": "code",
   "execution_count": 6,
   "id": "f4b2cb5a",
   "metadata": {},
   "outputs": [],
   "source": [
    "import datetime\n",
    "def create_folders():\n",
    "    time_stamp = datetime.datetime.now().strftime(\"%Y%m%d%H%M%S\")\n",
    "\n",
    "#     Folder_Name = \"PINN_Mech_Sys_\"+str(Fm_0)+\"_\"+str(B)+\"_\"+str(round(Ks, 2))+\"_\"+str(M)+\"_\"+Damped_Flag+\"_\"+str(epochs)+\"_TS\"+str(time_stamp)\n",
    "    Folder_Name = \"PINN_Mech_Sys_TS\"+str(time_stamp)\n",
    "\n",
    "    #     print(Folder_Name)\n",
    "\n",
    "\n",
    "    import os\n",
    "    import os.path\n",
    "\n",
    "    os.chdir(\".\")\n",
    "    # print(\"current dir is: %s\" % (os.getcwd()))\n",
    "\n",
    "    if os.path.isdir(Folder_Name):\n",
    "        print(\"Folder Exists\")\n",
    "    else:\n",
    "        os.mkdir(Folder_Name)\n",
    "        #print(\"Folder Created\")\n",
    "        \n",
    "\n",
    "\n",
    "    path = Folder_Name+'/img'\n",
    "    try:\n",
    "        os.mkdir(path)\n",
    "    except :\n",
    "        pass\n",
    "    return Folder_Name"
   ]
  },
  {
   "cell_type": "markdown",
   "id": "b433a31f",
   "metadata": {},
   "source": [
    "### Theorically Calculated (Actual Solution)"
   ]
  },
  {
   "cell_type": "code",
   "execution_count": null,
   "id": "831dc8d8",
   "metadata": {},
   "outputs": [],
   "source": []
  },
  {
   "cell_type": "code",
   "execution_count": 7,
   "id": "8b8c0acb",
   "metadata": {},
   "outputs": [
    {
     "data": {
      "text/plain": [
       "3.3333333333333335"
      ]
     },
     "execution_count": 7,
     "metadata": {},
     "output_type": "execute_result"
    }
   ],
   "source": [
    "1/0.3"
   ]
  },
  {
   "cell_type": "code",
   "execution_count": 8,
   "id": "7fec1f93",
   "metadata": {},
   "outputs": [
    {
     "name": "stdout",
     "output_type": "stream",
     "text": [
      "Amplitude = 14.1595, \n",
      "Alpha = 0.07, Wo = 1.4142\n",
      "Alpha2: 0.0049, Wo2: 2.0\n",
      "Under Damped\n"
     ]
    },
    {
     "data": {
      "image/png": "[encoded data removed]",
      "text/plain": [
       "<Figure size 432x288 with 1 Axes>"
      ]
     },
     "metadata": {
      "needs_background": "light"
     },
     "output_type": "display_data"
    }
   ],
   "source": [
    "# B = 1.2  -> 6\n",
    "# M = 1.5  \n",
    "# Ks = 1/0.3 \n",
    "# Fm_0 = 12.0\n",
    "\n",
    "\n",
    "B = 0.7 ## N-s/m\n",
    "M = 5.0  ## kg or N-s2/m\n",
    "Ks = 10.0  ## N/m\n",
    "Fm_0 = 100.0 ## N\n",
    "\n",
    "# B = 1.2 # -> 6\n",
    "# M = 1.5  \n",
    "# Ks = 10\n",
    "# Fm_0 = 20.0\n",
    "\n",
    "\n",
    "\n",
    "alpha = B/(2*M)\n",
    "Wo = math.sqrt(Ks/M)\n",
    "z = math.sqrt(abs((alpha**2)-(Wo**2)))\n",
    "\n",
    "Amp = (Fm_0/(z*M))\n",
    "print(\"Amplitude = {}, \\nAlpha = {}, Wo = {}\".format(round(Amp,4), round(alpha, 4), round(Wo, 4)))\n",
    "print(\"Alpha2: {}, Wo2: {}\".format(round((B/(2*M))**2, 4), round(Ks/M, 4)))\n",
    "\n",
    "Damped_Flag = None\n",
    "\n",
    "if alpha**2 > Wo**2:\n",
    "    print(\"Over Damped\")\n",
    "    Damped_Flag = \"OVER\"\n",
    "    \n",
    "elif alpha**2 < Wo**2:\n",
    "    print(\"Under Damped\")\n",
    "    Damped_Flag = \"UNDER\"\n",
    "elif alpha**2 == Wo**2:\n",
    "    print(\"Critically Damped\")\n",
    "    Damped_Flag = \"CRITICAL\"\n",
    "\n",
    "###############################################################\n",
    "num_test_pts = 150\n",
    "t_test = np.zeros(num_test_pts)\n",
    "vel_calc = np.zeros(num_test_pts)\n",
    "\n",
    "for i in range(num_test_pts):\n",
    "    t_test[i] = i / 10.0  # total time = t_test[num_test_pts]\n",
    "    # choose one matching the chosen circuit parameter set\n",
    "    \n",
    "    if Damped_Flag == \"OVER\":\n",
    "        vel_calc[i] = (Fm_0/(2*z*M)) * ((math.exp((-alpha + z)*t_test[i]))-(math.exp((-alpha - z)*t_test[i]))) # over-damped\n",
    "    \n",
    "    elif Damped_Flag == \"UNDER\":\n",
    "        vel_calc[i] = (Fm_0/(z*M)) * math.exp(-alpha * t_test[i]) * np.sin(z * t_test[i])  # under-damped\n",
    "    \n",
    "    elif Damped_Flag == \"CRITICAL\":\n",
    "        vel_calc[i] = (Fm_0 / M) * t_test[i] * math.exp(-1 * alpha * t_test[i])  # critically-damped\n",
    "    \n",
    "\n",
    "plt.plot(t_test, vel_calc)\n",
    "plt.title('blue: analytical solution')\n",
    "plt.xlabel('t (secs)')\n",
    "plt.ylabel('vel (m/sec)')\n",
    "plt.grid()\n",
    "plt.show()"
   ]
  },
  {
   "cell_type": "code",
   "execution_count": null,
   "id": "6a6a5c2a",
   "metadata": {},
   "outputs": [],
   "source": []
  },
  {
   "cell_type": "markdown",
   "id": "cb465c07",
   "metadata": {},
   "source": [
    "## Neural Network Implimentation"
   ]
  },
  {
   "cell_type": "code",
   "execution_count": null,
   "id": "4e2942cb",
   "metadata": {},
   "outputs": [],
   "source": []
  },
  {
   "cell_type": "code",
   "execution_count": 9,
   "id": "0bd5cd07",
   "metadata": {},
   "outputs": [],
   "source": [
    "optimizer = Adam(learning_rate=0.001)\n",
    "weight_init = RandomNormal()\n",
    "\n",
    "# Build model\n",
    "inputs = tf.keras.Input(batch_size= 10, shape=(1,), name=\"input_layer\")\n",
    "x = layers.Dense(64, activation='gelu', kernel_initializer=weight_init,\n",
    "                 kernel_regularizer=None)(inputs)\n",
    "\n",
    "x = layers.BatchNormalization()(x)\n",
    "x = layers.Dropout(0.2)(x)\n",
    "\n",
    "x = layers.Dense(64, activation='gelu', kernel_initializer=weight_init,\n",
    "                 kernel_regularizer=None)(x)\n",
    "\n",
    "x = layers.Dense(64, activation='gelu', kernel_initializer=weight_init,\n",
    "                 kernel_regularizer=None)(x)\n",
    "\n",
    "output = layers.Dense(1, activation='linear', kernel_initializer=weight_init)(x)\n",
    "\n",
    "model = tf.keras.Model(inputs, output)"
   ]
  },
  {
   "cell_type": "code",
   "execution_count": 10,
   "id": "222433de",
   "metadata": {},
   "outputs": [
    {
     "name": "stdout",
     "output_type": "stream",
     "text": [
      "Model: \"model\"\n",
      "_________________________________________________________________\n",
      " Layer (type)                Output Shape              Param #   \n",
      "=================================================================\n",
      " input_layer (InputLayer)    [(10, 1)]                 0         \n",
      "                                                                 \n",
      " dense (Dense)               (10, 64)                  128       \n",
      "                                                                 \n",
      " batch_normalization (BatchN  (10, 64)                 256       \n",
      " ormalization)                                                   \n",
      "                                                                 \n",
      " dropout (Dropout)           (10, 64)                  0         \n",
      "                                                                 \n",
      " dense_1 (Dense)             (10, 64)                  4160      \n",
      "                                                                 \n",
      " dense_2 (Dense)             (10, 64)                  4160      \n",
      "                                                                 \n",
      " dense_3 (Dense)             (10, 1)                   65        \n",
      "                                                                 \n",
      "=================================================================\n",
      "Total params: 8,769\n",
      "Trainable params: 8,641\n",
      "Non-trainable params: 128\n",
      "_________________________________________________________________\n"
     ]
    }
   ],
   "source": [
    "model.summary()"
   ]
  },
  {
   "cell_type": "code",
   "execution_count": 11,
   "id": "e6ef1a68",
   "metadata": {},
   "outputs": [],
   "source": [
    "################## sampling interval ###########################\n",
    "# co-location points\n",
    "t_coloc_max = 7\n",
    "t_coloc_intervel = 0.1\n",
    "t_coloc = np.arange(0, t_coloc_max, t_coloc_intervel)  # define domain\n",
    "\n",
    "# initial conditions:\n",
    "#  v(t) initial conditions\n",
    "t_init = np.array([0.0])  # time, sec\n",
    "vel_init = np.array([0.0])  # velocity, m/sec\n",
    "\n",
    "#  v'(t) initial conditions\n",
    "t_init2 = np.array([0.0])  # time, sec\n",
    "F_init2 = np.array([Fm_0])  # d/dt(vel) * M = Fm_0\n",
    "\n",
    "t_init2 = tf.convert_to_tensor(t_init2)\n",
    "t_init2 = tf.reshape(t_init2, [1, 1])\n",
    "t_init2 = tf.Variable(t_init2, name='t_init2')\n",
    "\n",
    "# Step function\n",
    "def step(t_coloc, vel_train_true, t_init, vel_init, t_init2, F_init2):\n",
    "\n",
    "# def step(t_coloc, t_init, vel_init, t_init2, F_init2):\n",
    "    t_coloc = tf.convert_to_tensor(t_coloc)\n",
    "    t_coloc = tf.reshape(t_coloc, [batch_size, 1])  # required by keras input\n",
    "    t_coloc = tf.Variable(t_coloc, name='t_coloc')\n",
    "    with tf.GradientTape(persistent=True) as tape:\n",
    "        \n",
    "        # model_loss1: initial condition vel_init @ t_init -> v(t) initial condition\n",
    "        pred_init = model(t_init)\n",
    "        model_loss1 = math_ops.squared_difference(pred_init, vel_init)\n",
    "#         print(\"vel_init: \", float(vel_init), \" pred_init: \",float(pred_init), \" model_loss1: \",float(model_loss1))\n",
    "        \n",
    "        # model_loss2: initial condition F_init2 @ t_init2 -> v'(t) initial condition\n",
    "#         t_init2 = tf.convert_to_tensor(t_init2)\n",
    "#         t_init2 = tf.reshape(t_init2, [1, 1])\n",
    "#         t_init2 = tf.Variable(t_init2, name='t_init2')\n",
    "        pred_init2 = model(t_init2)\n",
    "        \n",
    "        dvdt = tape.gradient(pred_init2, t_init2)  # v'(t)\n",
    "        \n",
    "        Fm = dvdt * tf.cast(M, tf.float64)  # Mass force due to dvdt\n",
    "        model_loss2 = math_ops.squared_difference(Fm, F_init2)\n",
    "        model_loss2 = tf.cast(model_loss2, tf.float32)\n",
    "#         print(\"F_init2: \", float(F_init2), \" pred_Fm: \",float(Fm), \" model_loss2: \",float(model_loss2))\n",
    "        \n",
    "       \n",
    "        # 1st and 2nd order gradients for co-location pts\n",
    "        with tf.GradientTape(persistent=True) as tape2:\n",
    "            pred_y = model(t_coloc)\n",
    "            dvdt = tape2.gradient(pred_y, t_coloc)  # v'(t)\n",
    "        dvdt2 = tape2.gradient(dvdt, t_coloc)  # v\"(t)\n",
    "        \n",
    "        # model_loss3: collocation points\n",
    "        pred_y = tf.cast(pred_y, tf.float64)\n",
    "        residual = dvdt2 + dvdt * (B / M) + pred_y / (M / Ks)\n",
    "        model_loss3 = K.mean(math_ops.square(residual), axis=-1)\n",
    "        model_loss3 = tf.cast(model_loss3, tf.float32)\n",
    "#         print(\"residual: \", float(residual), \" model_loss3: \",float(model_loss3))\n",
    "        \n",
    "        \n",
    "#         # model_loss4: custom condition vel_val -> v(t)\n",
    "#         # model_loss4: custom condition vel_val @ t = 10 sec -> v(10) initial condition\n",
    "#         pred_vel_train = model(t_coloc)\n",
    "#         model_loss4 = math_ops.squared_difference(pred_vel_train, vel_train_true)\n",
    "#         print(\"t_coloc: \", float(t_coloc), \" vel_train_true: \", vel_train_true, \" pred_vel_train: \",float(pred_vel_train), \" model_loss4: \",float(model_loss4))\n",
    "        \n",
    "    \n",
    "        #total loss\n",
    "        model_loss = model_loss1 + model_loss2 +  model_loss3 #+ model_loss4\n",
    "        print(\"model_loss: \", float(np.mean(model_loss.numpy())))\n",
    "        \n",
    "        trainable = model.trainable_variables\n",
    "        model_gradients = tape.gradient(model_loss, trainable)\n",
    "\n",
    "        # Update model\n",
    "        optimizer.apply_gradients(zip(model_gradients, trainable))\n",
    "        \n",
    "    return float(np.mean(model_loss.numpy()))"
   ]
  },
  {
   "cell_type": "code",
   "execution_count": 12,
   "id": "b5e95ad8",
   "metadata": {},
   "outputs": [
    {
     "data": {
      "text/plain": [
       "array([0., 0., 0., 0., 0., 0., 0., 0., 0., 0., 0., 0., 0., 0., 0., 0., 0.,\n",
       "       0., 0., 0., 0., 0., 0., 0., 0., 0., 0., 0., 0., 0., 0., 0., 0., 0.,\n",
       "       0., 0., 0., 0., 0., 0., 0., 0., 0., 0., 0., 0., 0., 0., 0., 0., 0.,\n",
       "       0., 0., 0., 0., 0., 0., 0., 0., 0., 0., 0., 0., 0., 0., 0., 0., 0.,\n",
       "       0., 0.])"
      ]
     },
     "execution_count": 12,
     "metadata": {},
     "output_type": "execute_result"
    }
   ],
   "source": [
    "vel_train_true = np.zeros(len(t_coloc))\n",
    "vel_train_true"
   ]
  },
  {
   "cell_type": "code",
   "execution_count": 13,
   "id": "bc379a7b",
   "metadata": {},
   "outputs": [
    {
     "data": {
      "text/plain": [
       "array([0. , 0.1, 0.2, 0.3, 0.4, 0.5, 0.6, 0.7, 0.8, 0.9, 1. , 1.1, 1.2,\n",
       "       1.3, 1.4, 1.5, 1.6, 1.7, 1.8, 1.9, 2. , 2.1, 2.2, 2.3, 2.4, 2.5,\n",
       "       2.6, 2.7, 2.8, 2.9, 3. , 3.1, 3.2, 3.3, 3.4, 3.5, 3.6, 3.7, 3.8,\n",
       "       3.9, 4. , 4.1, 4.2, 4.3, 4.4, 4.5, 4.6, 4.7, 4.8, 4.9, 5. , 5.1,\n",
       "       5.2, 5.3, 5.4, 5.5, 5.6, 5.7, 5.8, 5.9, 6. , 6.1, 6.2, 6.3, 6.4,\n",
       "       6.5, 6.6, 6.7, 6.8, 6.9])"
      ]
     },
     "execution_count": 13,
     "metadata": {},
     "output_type": "execute_result"
    }
   ],
   "source": [
    "t_coloc"
   ]
  },
  {
   "cell_type": "code",
   "execution_count": 14,
   "id": "438c1e3d",
   "metadata": {},
   "outputs": [],
   "source": [
    "for i in range(len(t_coloc)):\n",
    "    # choose one matching the chosen circuit parameter set\n",
    "    \n",
    "    if Damped_Flag == \"OVER\":\n",
    "        vel_train_true[i] = (Fm_0/(2*z*M)) * ((math.exp((-alpha + z)*t_coloc[i]))-(math.exp((-alpha - z)*t_coloc[i]))) # over-damped\n",
    "    \n",
    "    elif Damped_Flag == \"UNDER\":\n",
    "        vel_train_true[i] = (Fm_0/(z*M)) * math.exp(-alpha * t_coloc[i]) * np.sin(z * t_coloc[i])  # under-damped\n",
    "    \n",
    "    elif Damped_Flag == \"CRITICAL\":\n",
    "        vel_train_true[i] = (Fm_0 / M) * t_coloc[i] * math.exp(-1 * alpha * t_coloc[i])  # critically-damped"
   ]
  },
  {
   "cell_type": "code",
   "execution_count": 15,
   "id": "b695eece",
   "metadata": {},
   "outputs": [
    {
     "data": {
      "text/plain": [
       "array([  0.        ,   1.97945153,   3.8921361 ,   5.70105805,\n",
       "         7.3717934 ,   8.87313666,  10.17767481,  11.26227809,\n",
       "        12.1084991 ,  12.70287341,  13.03711732,  13.10822004,\n",
       "        12.91843007,  12.47513755,  11.79065619,  10.88191072,\n",
       "         9.77003717,   8.47990528,   7.03957346,   5.47968813,\n",
       "         3.83284013,   2.13289145,   0.41428617,  -1.28864057,\n",
       "        -2.94234183,  -4.51471308,  -5.97570871,  -7.29790913,\n",
       "        -8.45702788,  -9.43234972, -10.20709158, -10.76868079,\n",
       "       -11.10894574, -11.22421674, -11.11533623, -10.78757929,\n",
       "       -10.25048747,  -9.51762027,  -8.60623042,  -7.53687047,\n",
       "        -6.3329394 ,  -5.02017913,  -3.62613148,  -2.17956713,\n",
       "        -0.70989806,   0.75341456,   2.18144516,   3.54636987,\n",
       "         4.82200286,   5.98429282,   7.01177009,   7.88593653,\n",
       "         8.59159093,   9.11708462,   9.454503  ,   9.59977059,\n",
       "         9.55267847,   9.31683462,   8.89953937,   8.31158928,\n",
       "         7.56701451,   6.68275564,   5.67828731,   4.57519691,\n",
       "         3.39672713,   2.16729212,   0.91197713,  -0.34396819,\n",
       "        -1.57563272,  -2.75893313])"
      ]
     },
     "execution_count": 15,
     "metadata": {},
     "output_type": "execute_result"
    }
   ],
   "source": [
    "vel_train_true"
   ]
  },
  {
   "cell_type": "markdown",
   "id": "cfa31b8c",
   "metadata": {},
   "source": [
    "### Extracting datapoints from Analytical Solution"
   ]
  },
  {
   "cell_type": "code",
   "execution_count": 16,
   "id": "8b496211",
   "metadata": {},
   "outputs": [
    {
     "data": {
      "text/plain": [
       "array([0., 0., 0., 0., 0., 0., 0., 0., 0., 0., 0., 0., 0., 0., 0., 0., 0.,\n",
       "       0., 0., 0., 0., 0., 0., 0., 0., 0., 0., 0., 0., 0., 0., 0., 0., 0.,\n",
       "       0., 0., 0., 0., 0., 0., 0., 0., 0., 0., 0., 0., 0., 0., 0., 0., 0.,\n",
       "       0., 0., 0., 0., 0., 0., 0., 0., 0., 0., 0., 0., 0., 0., 0., 0., 0.,\n",
       "       0., 0.])"
      ]
     },
     "execution_count": 16,
     "metadata": {},
     "output_type": "execute_result"
    }
   ],
   "source": [
    "vel_train_true = np.zeros(len(t_coloc))\n",
    "vel_train_true"
   ]
  },
  {
   "cell_type": "code",
   "execution_count": 17,
   "id": "d31370a2",
   "metadata": {},
   "outputs": [],
   "source": [
    "for i in range(len(t_coloc)):\n",
    "    # analytical results for comparison to PINN result\n",
    "    \n",
    "    if Damped_Flag == \"OVER\":\n",
    "        vel_train_true[i] = (Fm_0/(2*z*M)) * ((math.exp((-alpha + z)*t_coloc[i]))-(math.exp((-alpha - z)*t_coloc[i]))) # over-damped\n",
    "    \n",
    "    elif Damped_Flag == \"UNDER\":\n",
    "        vel_train_true[i] = (Fm_0/(z*M)) * math.exp(-alpha * t_coloc[i]) * np.sin(z * t_coloc[i])  # under-damped\n",
    "    \n",
    "    elif Damped_Flag == \"CRITICAL\":\n",
    "        vel_train_true[i] = (Fm_0 / M) * t_coloc[i] * math.exp(-1 * alpha * t_coloc[i])  # critically-damped"
   ]
  },
  {
   "cell_type": "code",
   "execution_count": 18,
   "id": "94dde1fd",
   "metadata": {},
   "outputs": [
    {
     "data": {
      "text/plain": [
       "70"
      ]
     },
     "execution_count": 18,
     "metadata": {},
     "output_type": "execute_result"
    }
   ],
   "source": [
    "len(vel_train_true)"
   ]
  },
  {
   "cell_type": "code",
   "execution_count": 19,
   "id": "c905a879",
   "metadata": {},
   "outputs": [
    {
     "data": {
      "text/plain": [
       "35.0"
      ]
     },
     "execution_count": 19,
     "metadata": {},
     "output_type": "execute_result"
    }
   ],
   "source": [
    "len(t_coloc)/2"
   ]
  },
  {
   "cell_type": "code",
   "execution_count": 20,
   "id": "b18ede46",
   "metadata": {},
   "outputs": [
    {
     "data": {
      "text/plain": [
       "35"
      ]
     },
     "execution_count": 20,
     "metadata": {},
     "output_type": "execute_result"
    }
   ],
   "source": [
    "batch_size = int(len(t_coloc)/2)\n",
    "batch_size"
   ]
  },
  {
   "cell_type": "code",
   "execution_count": 21,
   "id": "4a97fd7a",
   "metadata": {},
   "outputs": [],
   "source": [
    "from tqdm import tqdm\n",
    "from IPython import display"
   ]
  },
  {
   "cell_type": "code",
   "execution_count": 22,
   "id": "f0664ae1",
   "metadata": {},
   "outputs": [],
   "source": [
    "import matplotlib.pyplot as plt"
   ]
  },
  {
   "cell_type": "code",
   "execution_count": 23,
   "id": "151b02c7",
   "metadata": {},
   "outputs": [],
   "source": [
    "def epoch_loss_graph(epoch_losses):\n",
    "    fig = plt.figure(figsize=(9,6))\n",
    "    plt.semilogy(list(range(len(epoch_losses))), epoch_losses,'k-')\n",
    "    \n",
    "    plt.title('Model Loss plot for each Epoch(Training count)', fontsize=14)\n",
    "    plt.xlabel('Epoch')\n",
    "    plt.ylabel('Total Loss')\n",
    "    plt.grid()"
   ]
  },
  {
   "cell_type": "code",
   "execution_count": null,
   "id": "b5b77604",
   "metadata": {},
   "outputs": [],
   "source": []
  },
  {
   "cell_type": "markdown",
   "id": "39f79d3c",
   "metadata": {},
   "source": [
    "### Training the PINN Model\n",
    "\n",
    "- Training to learn Boundary conditions\n",
    "- Regularization loss with involved physics Partial Differential Equations (PDE)"
   ]
  },
  {
   "cell_type": "code",
   "execution_count": 24,
   "id": "5af5123d",
   "metadata": {},
   "outputs": [],
   "source": [
    "epochs = 10000"
   ]
  },
  {
   "cell_type": "code",
   "execution_count": 25,
   "id": "30d233da",
   "metadata": {
    "scrolled": true
   },
   "outputs": [
    {
     "data": {
      "text/plain": [
       "'PINN_Mech_Sys_TS20230614104153'"
      ]
     },
     "execution_count": 25,
     "metadata": {},
     "output_type": "execute_result"
    }
   ],
   "source": [
    "Folder_Name = create_folders()\n",
    "Folder_Name"
   ]
  },
  {
   "cell_type": "code",
   "execution_count": 26,
   "id": "1406d83c",
   "metadata": {},
   "outputs": [],
   "source": [
    "from tensorflow.keras.models import Model\n",
    "from tensorflow.keras.models import load_model"
   ]
  },
  {
   "cell_type": "code",
   "execution_count": 27,
   "id": "d879f708",
   "metadata": {},
   "outputs": [
    {
     "data": {
      "text/plain": [
       "'PINN_Mech_Sys_TS20230614104153'"
      ]
     },
     "execution_count": 27,
     "metadata": {},
     "output_type": "execute_result"
    }
   ],
   "source": [
    "Folder_Name"
   ]
  },
  {
   "cell_type": "code",
   "execution_count": null,
   "id": "9c39acd4",
   "metadata": {},
   "outputs": [],
   "source": []
  },
  {
   "cell_type": "code",
   "execution_count": null,
   "id": "3649fa37",
   "metadata": {
    "scrolled": false
   },
   "outputs": [
    {
     "data": {
      "image/png": "[encoded data removed]",
      "text/plain": [
       "<Figure size 648x432 with 1 Axes>"
      ]
     },
     "metadata": {
      "needs_background": "light"
     },
     "output_type": "display_data"
    },
    {
     "name": "stderr",
     "output_type": "stream",
     "text": [
      "\r",
      " 51%|██████████████████████████████████████▏                                    | 5095/10000 [1:00:20<56:20,  1.45it/s]"
     ]
    },
    {
     "name": "stdout",
     "output_type": "stream",
     "text": [
      "model_loss:  19.79701805114746\n",
      "model_loss:  9.89901351928711"
     ]
    }
   ],
   "source": [
    "# Training loop\n",
    "\n",
    "epoch_pred = []\n",
    "epoch_losses = []\n",
    "best_loss = np.inf\n",
    "\n",
    "bat_per_epoch = math.floor(len(t_coloc) / batch_size)\n",
    "t_train_start = time.time()\n",
    "\n",
    "for epoch in tqdm(range(epochs)):\n",
    "    t1 = time.time()\n",
    "    batch_losses = []\n",
    "    for i in range(bat_per_epoch):\n",
    "        n = i * batch_size\n",
    "        ### Training \n",
    "        step_loss = step(t_coloc[n:n + batch_size], vel_train_true[n:n+batch_size] ,t_init, vel_init, t_init2, F_init2)\n",
    "        \n",
    "        ### Test Loss\n",
    "        batch_losses.append(step_loss)\n",
    "    \n",
    "    train_predictions = list((model.predict([t_coloc], verbose = 0)).reshape(1, -1)[0])\n",
    "    print(\"Train Predictions: \\n\", train_predictions)\n",
    "    epoch_pred.append(train_predictions)\n",
    "    \n",
    "    epoch_losses.append(np.mean(batch_losses))\n",
    "    \n",
    "    current_loss = np.mean(batch_losses)\n",
    "    print(\"Current Loss: \", current_loss)\n",
    "    print(\"Best Loss   : \", best_loss)\n",
    "    \n",
    "    if current_loss < best_loss:\n",
    "        \n",
    "        best_loss = current_loss\n",
    "        \n",
    "        print(\"This is Best epoch: {} with epoch loss: {}\".format(epoch, current_loss))\n",
    "        # save model\n",
    "        model.save(Folder_Name+\"/\"+'PINN_Exp_Model.h5')\n",
    "        print('Model Saved!')\n",
    "        print(\"Folder_Name\", Folder_Name)\n",
    "        savedModel=load_model(Folder_Name+\"/\"+'PINN_Exp_Model.h5')\n",
    "        saved_model_predictions = list((savedModel.predict([t_coloc], verbose = 0)).reshape(1, -1)[0])\n",
    "        print(\"Saved Model Predictions: \\n\", saved_model_predictions)\n",
    "    \n",
    "    epoch_loss_graph(epoch_losses)\n",
    "    display.clear_output(wait=True)\n",
    "    plt.show()    \n",
    "\n",
    "print(\"Total training time (min) took for {} epochs: \".format(epochs), round((time.time() - t_train_start)/60, 3))"
   ]
  },
  {
   "cell_type": "code",
   "execution_count": null,
   "id": "1155ce1a",
   "metadata": {
    "scrolled": false
   },
   "outputs": [],
   "source": [
    "Damped_Flag"
   ]
  },
  {
   "cell_type": "code",
   "execution_count": null,
   "id": "a7375465",
   "metadata": {},
   "outputs": [],
   "source": [
    "saved_model_predictions"
   ]
  },
  {
   "cell_type": "code",
   "execution_count": null,
   "id": "ec6e395d",
   "metadata": {},
   "outputs": [],
   "source": [
    "savedModel=load_model(Folder_Name+\"/\"+'PINN_Exp_Model.h5')\n",
    "list((savedModel.predict([t_coloc], verbose = 0)).reshape(1, -1)[0])\n"
   ]
  },
  {
   "cell_type": "code",
   "execution_count": null,
   "id": "979b1020",
   "metadata": {},
   "outputs": [],
   "source": [
    "# savedModel=load_model(Folder_Name+\"/\"+'PINN_Exp_Model.h5')\n",
    "list((model.predict([t_coloc], verbose = 0)).reshape(1, -1)[0])\n"
   ]
  },
  {
   "cell_type": "code",
   "execution_count": null,
   "id": "fdb1fb76",
   "metadata": {},
   "outputs": [],
   "source": []
  },
  {
   "cell_type": "code",
   "execution_count": null,
   "id": "f65eceb3",
   "metadata": {},
   "outputs": [],
   "source": [
    "import matplotlib.pyplot as plt\n",
    "\n",
    "plt.figure()\n",
    "fig = plt.figure(figsize=(9,6))\n",
    "\n",
    "plt.title('Model Loss plot for each Epoch(Training count)', fontsize=14)\n",
    "plt.semilogy(list(range(len(epoch_losses))), epoch_losses,'k-')\n",
    "\n",
    "plt.xlabel('Epoch')\n",
    "plt.ylabel('Total Loss')\n",
    "\n",
    "plt.grid()\n",
    "\n",
    "image_name = Folder_Name+'/Epoch_Loss_Plot.png'\n",
    "plt.savefig(image_name)"
   ]
  },
  {
   "cell_type": "code",
   "execution_count": null,
   "id": "ce70bc25",
   "metadata": {},
   "outputs": [],
   "source": []
  },
  {
   "cell_type": "code",
   "execution_count": null,
   "id": "f544c3b6",
   "metadata": {},
   "outputs": [],
   "source": []
  },
  {
   "cell_type": "code",
   "execution_count": null,
   "id": "77cdb625",
   "metadata": {},
   "outputs": [],
   "source": []
  },
  {
   "cell_type": "code",
   "execution_count": null,
   "id": "a4dff5eb",
   "metadata": {},
   "outputs": [],
   "source": []
  },
  {
   "cell_type": "markdown",
   "id": "251ff5e0",
   "metadata": {},
   "source": [
    "### Extracting Training Results"
   ]
  },
  {
   "cell_type": "code",
   "execution_count": null,
   "id": "835221c7",
   "metadata": {
    "scrolled": true
   },
   "outputs": [],
   "source": [
    "import imageio\n",
    "import matplotlib.patches as mpatches\n",
    "from IPython import display\n",
    "\n",
    "frames = []\n",
    "for i, epoch_data in enumerate(epoch_pred[:]):\n",
    "    if i%50 == 0:\n",
    "        print(\"Epoch {} of {}\".format(i, len(epoch_pred)))\n",
    "        \n",
    "        fig = plt.figure(figsize=(9,6))\n",
    "        plt.title('Speed v (mps) and time (sec) at epoch {}'.format(i), fontsize=14)\n",
    "        plt.plot(t_coloc, epoch_data, 'r', t_coloc, vel_train_true, 'b')\n",
    "        \n",
    "        \n",
    "        plt.xlabel('t (secs)')\n",
    "        plt.ylabel('v (mps)')\n",
    "        red_patch = mpatches.Patch(color='blue', label='Theoretical actual v(t)')\n",
    "        blue_patch = mpatches.Patch(color='red', label='PINN predicted v(t)')\n",
    "        plt.legend(handles=[red_patch, blue_patch])\n",
    "\n",
    "        plot_threshold = (math.ceil(max(vel_train_true)) - round(min(vel_train_true))) * 0.25\n",
    "\n",
    "        plt.ylim(round(min(vel_train_true)) - plot_threshold, math.ceil(max(vel_train_true))+plot_threshold)\n",
    "        plt.grid()\n",
    "\n",
    "        image_name = Folder_Name+'/img/img_{}.png'.format(i)\n",
    "        plt.savefig(image_name, \n",
    "                    transparent = False,  \n",
    "                    facecolor = 'white'\n",
    "                   )\n",
    "        plt.close()\n",
    "        plt.show()\n",
    "        image = imageio.imread(Folder_Name+'/img/img_{}.png'.format(i))\n",
    "        frames.append(image)\n",
    "\n",
    "imageio.mimsave(Folder_Name+'/curve_fitting_graph_during_training.gif', # output gif\n",
    "                frames,          # array of input frames\n",
    "                fps = 10,         # optional: frames per second\n",
    "#                 loop = 1\n",
    "               )"
   ]
  },
  {
   "cell_type": "code",
   "execution_count": null,
   "id": "a8f66d41",
   "metadata": {},
   "outputs": [],
   "source": []
  },
  {
   "cell_type": "code",
   "execution_count": null,
   "id": "8bf9cabb",
   "metadata": {},
   "outputs": [],
   "source": []
  },
  {
   "cell_type": "markdown",
   "id": "b43727fd",
   "metadata": {},
   "source": [
    "### Training Evolution"
   ]
  },
  {
   "cell_type": "code",
   "execution_count": null,
   "id": "335d0a4c",
   "metadata": {},
   "outputs": [],
   "source": [
    "def show_gif(fname):\n",
    "    import base64\n",
    "    from IPython import display\n",
    "    with open(fname, 'rb') as fd:\n",
    "        b64 = base64.b64encode(fd.read()).decode('ascii')\n",
    "    return display.HTML(f'<img src=\"data:image/gif;base64,{b64}\" />')\n",
    "\n",
    "show_gif(Folder_Name+\"/\"+'curve_fitting_graph_during_training.gif')"
   ]
  },
  {
   "cell_type": "code",
   "execution_count": null,
   "id": "3408206f",
   "metadata": {},
   "outputs": [],
   "source": []
  },
  {
   "cell_type": "code",
   "execution_count": null,
   "id": "bd35f4ab",
   "metadata": {
    "scrolled": true
   },
   "outputs": [],
   "source": []
  },
  {
   "cell_type": "code",
   "execution_count": null,
   "id": "3343f3e3",
   "metadata": {},
   "outputs": [],
   "source": []
  },
  {
   "cell_type": "code",
   "execution_count": null,
   "id": "dd928e62",
   "metadata": {},
   "outputs": [],
   "source": []
  },
  {
   "cell_type": "code",
   "execution_count": null,
   "id": "8da20357",
   "metadata": {},
   "outputs": [],
   "source": []
  },
  {
   "cell_type": "markdown",
   "id": "6755712b",
   "metadata": {},
   "source": [
    "### Saving and Loading PINN Model"
   ]
  },
  {
   "cell_type": "code",
   "execution_count": null,
   "id": "8e70a204",
   "metadata": {},
   "outputs": [],
   "source": [
    "from tensorflow.keras.models import Model\n",
    "from tensorflow.keras.models import load_model"
   ]
  },
  {
   "cell_type": "code",
   "execution_count": null,
   "id": "22024e5e",
   "metadata": {},
   "outputs": [],
   "source": [
    "# save model\n",
    "model.save(Folder_Name+\"/\"+'PINN_Exp_Model.h5')\n",
    "print('Model Saved!')"
   ]
  },
  {
   "cell_type": "code",
   "execution_count": null,
   "id": "6f884d5a",
   "metadata": {},
   "outputs": [],
   "source": [
    "# load model\n",
    "savedModel=load_model(Folder_Name+\"/\"+'PINN_Exp_Model.h5')\n",
    "savedModel.summary()"
   ]
  },
  {
   "cell_type": "markdown",
   "id": "93291617",
   "metadata": {},
   "source": [
    "### Validating the loaded PINN model performance"
   ]
  },
  {
   "cell_type": "code",
   "execution_count": null,
   "id": "e630a386",
   "metadata": {},
   "outputs": [],
   "source": [
    "num_test_pts = 300"
   ]
  },
  {
   "cell_type": "code",
   "execution_count": null,
   "id": "5ae1dbb6",
   "metadata": {},
   "outputs": [],
   "source": [
    "t_test = np.zeros(num_test_pts)\n",
    "vel_test = np.zeros(num_test_pts)\n",
    "vel_calc = np.zeros(num_test_pts)"
   ]
  },
  {
   "cell_type": "code",
   "execution_count": null,
   "id": "b5458862",
   "metadata": {
    "scrolled": true
   },
   "outputs": [],
   "source": [
    "len(t_coloc), len(vel_train_true)"
   ]
  },
  {
   "cell_type": "code",
   "execution_count": null,
   "id": "21bebd95",
   "metadata": {
    "scrolled": true
   },
   "outputs": [],
   "source": [
    "len(vel_calc)"
   ]
  },
  {
   "cell_type": "code",
   "execution_count": null,
   "id": "aa47e9c9",
   "metadata": {},
   "outputs": [],
   "source": [
    "len(t_test), len(t_coloc), num_test_pts"
   ]
  },
  {
   "cell_type": "code",
   "execution_count": null,
   "id": "eb483107",
   "metadata": {
    "scrolled": true
   },
   "outputs": [],
   "source": [
    "for i in range(num_test_pts):\n",
    "    t_test[i] = i / 10.0  \n",
    "    \n",
    "    # PINN results\n",
    "    vel_test[i] = savedModel.predict([t_test[i]], verbose = 0)  # PINN results\n",
    "    \n",
    "    ### Analytical Results\n",
    "    if Damped_Flag == \"OVER\":\n",
    "        vel_calc[i] = (Fm_0/(2*z*M)) * ((math.exp((-alpha + z)*t_test[i]))-(math.exp((-alpha - z)*t_test[i]))) # over-damped\n",
    "    \n",
    "    elif Damped_Flag == \"UNDER\":\n",
    "        vel_calc[i] = (Fm_0/(z*M)) * math.exp(-alpha * t_test[i]) * np.sin(z * t_test[i])  # under-damped\n",
    "    \n",
    "    elif Damped_Flag == \"CRITICAL\":\n",
    "        vel_calc[i] = (Fm_0 / M) * t_test[i] * math.exp(-1 * alpha * t_test[i])  # critically-damped"
   ]
  },
  {
   "cell_type": "code",
   "execution_count": null,
   "id": "d17b948a",
   "metadata": {},
   "outputs": [],
   "source": []
  },
  {
   "cell_type": "code",
   "execution_count": null,
   "id": "489809d6",
   "metadata": {},
   "outputs": [],
   "source": [
    "fig = plt.figure(figsize=(9,6))\n",
    "plt.plot(t_test, vel_test, 'r', t_test, vel_calc, 'b', t_coloc, vel_train_true, 'Dg')\n",
    "plt.title('red: PINN   blue: analytical solution   green: co-location pts')\n",
    "plt.xlabel('t (secs)')\n",
    "plt.ylabel('vel (m/sec)')\n",
    "plt.grid()\n",
    "\n",
    "image_name = Folder_Name+'/Model_Test_Prediction.png'\n",
    "plt.savefig(image_name)\n",
    "\n",
    "plt.show()\n",
    "\n",
    "# Save result data to file\n",
    "# pinn_data = np.stack((t_test, vel_test), axis=1)\n",
    "# np.save('[insert path here]/pinn_data.npy', pinn_data)"
   ]
  },
  {
   "cell_type": "code",
   "execution_count": null,
   "id": "3ab3d89d",
   "metadata": {},
   "outputs": [],
   "source": []
  },
  {
   "cell_type": "markdown",
   "id": "15d51c76",
   "metadata": {},
   "source": [
    "# TO DO\n",
    "\n",
    "- ADD MORE LAYERS ./\n",
    "- CREATE A DATA SET AND IMPLEMENT PINN-RNN USE CASE\n",
    "\n",
    "- CONTACT SOMEONE TO SOLVE THIS PINN ISSUE\n"
   ]
  },
  {
   "cell_type": "code",
   "execution_count": null,
   "id": "2131ffe9",
   "metadata": {},
   "outputs": [],
   "source": []
  },
  {
   "cell_type": "code",
   "execution_count": null,
   "id": "ca41caa7",
   "metadata": {},
   "outputs": [],
   "source": []
  },
  {
   "cell_type": "code",
   "execution_count": null,
   "id": "ae516b02",
   "metadata": {},
   "outputs": [],
   "source": []
  },
  {
   "cell_type": "code",
   "execution_count": null,
   "id": "c0eca498",
   "metadata": {},
   "outputs": [],
   "source": []
  },
  {
   "cell_type": "code",
   "execution_count": null,
   "id": "55c2e9e7",
   "metadata": {},
   "outputs": [],
   "source": []
  },
  {
   "cell_type": "code",
   "execution_count": null,
   "id": "89b0c8c7",
   "metadata": {},
   "outputs": [],
   "source": []
  },
  {
   "cell_type": "code",
   "execution_count": null,
   "id": "441b25cc",
   "metadata": {},
   "outputs": [],
   "source": []
  },
  {
   "cell_type": "code",
   "execution_count": null,
   "id": "dc51f2d3",
   "metadata": {},
   "outputs": [],
   "source": []
  },
  {
   "cell_type": "code",
   "execution_count": null,
   "id": "a9f4735f",
   "metadata": {},
   "outputs": [],
   "source": []
  }
 ],
 "metadata": {
  "kernelspec": {
   "display_name": "Python 3",
   "language": "python",
   "name": "python3"
  },
  "language_info": {
   "codemirror_mode": {
    "name": "ipython",
    "version": 3
   },
   "file_extension": ".py",
   "mimetype": "text/x-python",
   "name": "python",
   "nbconvert_exporter": "python",
   "pygments_lexer": "ipython3",
   "version": "3.7.4"
  }
 },
 "nbformat": 4,
 "nbformat_minor": 5
}
